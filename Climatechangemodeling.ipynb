{
 "cells": [
  {
   "cell_type": "markdown",
   "id": "d8b2038c-b15f-4f41-9f01-f2480c05905b",
   "metadata": {},
   "source": [
    "# import Libraries"
   ]
  },
  {
   "cell_type": "code",
   "execution_count": 1,
   "id": "248e0b10-6d0d-4a8d-b65f-0236451763db",
   "metadata": {},
   "outputs": [],
   "source": [
    "\n",
    "import pandas as pd\n",
    "import numpy as np\n",
    "import matplotlib.pyplot as plt\n",
    "import seaborn as sns\n",
    "\n",
    "from sklearn.model_selection import train_test_split\n",
    "from sklearn.linear_model import LinearRegression\n",
    "from sklearn.ensemble import RandomForestRegressor, GradientBoostingRegressor\n",
    "from sklearn.metrics import mean_absolute_error, mean_squared_error, r2_score\n",
    "from sklearn.preprocessing import StandardScaler\n",
    "\n",
    "import warnings\n",
    "warnings.filterwarnings('ignore')\n"
   ]
  },
  {
   "cell_type": "markdown",
   "id": "4998171e-3176-4973-859f-41327a50b763",
   "metadata": {},
   "source": [
    "# 📌 Step 2: Load the dataset"
   ]
  },
  {
   "cell_type": "code",
   "execution_count": 2,
   "id": "eb1fe21b-b3df-43de-a361-8e67b9b5eff5",
   "metadata": {},
   "outputs": [
    {
     "data": {
      "text/html": [
       "<div>\n",
       "<style scoped>\n",
       "    .dataframe tbody tr th:only-of-type {\n",
       "        vertical-align: middle;\n",
       "    }\n",
       "\n",
       "    .dataframe tbody tr th {\n",
       "        vertical-align: top;\n",
       "    }\n",
       "\n",
       "    .dataframe thead th {\n",
       "        text-align: right;\n",
       "    }\n",
       "</style>\n",
       "<table border=\"1\" class=\"dataframe\">\n",
       "  <thead>\n",
       "    <tr style=\"text-align: right;\">\n",
       "      <th></th>\n",
       "      <th>dt</th>\n",
       "      <th>AverageTemperature</th>\n",
       "      <th>AverageTemperatureUncertainty</th>\n",
       "      <th>Country</th>\n",
       "    </tr>\n",
       "  </thead>\n",
       "  <tbody>\n",
       "    <tr>\n",
       "      <th>0</th>\n",
       "      <td>1743-11-01</td>\n",
       "      <td>4.384</td>\n",
       "      <td>2.294</td>\n",
       "      <td>Åland</td>\n",
       "    </tr>\n",
       "    <tr>\n",
       "      <th>1</th>\n",
       "      <td>1743-12-01</td>\n",
       "      <td>NaN</td>\n",
       "      <td>NaN</td>\n",
       "      <td>Åland</td>\n",
       "    </tr>\n",
       "    <tr>\n",
       "      <th>2</th>\n",
       "      <td>1744-01-01</td>\n",
       "      <td>NaN</td>\n",
       "      <td>NaN</td>\n",
       "      <td>Åland</td>\n",
       "    </tr>\n",
       "    <tr>\n",
       "      <th>3</th>\n",
       "      <td>1744-02-01</td>\n",
       "      <td>NaN</td>\n",
       "      <td>NaN</td>\n",
       "      <td>Åland</td>\n",
       "    </tr>\n",
       "    <tr>\n",
       "      <th>4</th>\n",
       "      <td>1744-03-01</td>\n",
       "      <td>NaN</td>\n",
       "      <td>NaN</td>\n",
       "      <td>Åland</td>\n",
       "    </tr>\n",
       "  </tbody>\n",
       "</table>\n",
       "</div>"
      ],
      "text/plain": [
       "           dt  AverageTemperature  AverageTemperatureUncertainty Country\n",
       "0  1743-11-01               4.384                          2.294   Åland\n",
       "1  1743-12-01                 NaN                            NaN   Åland\n",
       "2  1744-01-01                 NaN                            NaN   Åland\n",
       "3  1744-02-01                 NaN                            NaN   Åland\n",
       "4  1744-03-01                 NaN                            NaN   Åland"
      ]
     },
     "execution_count": 2,
     "metadata": {},
     "output_type": "execute_result"
    }
   ],
   "source": [
    "\n",
    "df = pd.read_csv('GlobalLandTemperaturesByCountry.csv')\n",
    "df.head()\n"
   ]
  },
  {
   "cell_type": "markdown",
   "id": "29614589-23fb-4a4b-9124-959ed8296abc",
   "metadata": {},
   "source": [
    "# 📌 Step 3: Filter for India and preprocess"
   ]
  },
  {
   "cell_type": "code",
   "execution_count": null,
   "id": "eff6c2a2-c23e-487a-8651-60d35879e219",
   "metadata": {},
   "outputs": [],
   "source": [
    "\n",
    "df = df.dropna()\n",
    "df = df[df['Country'] == 'India']\n",
    "df['dt'] = pd.to_datetime(df['dt'])\n",
    "df['Year'] = df['dt'].dt.year\n",
    "\n",
    "# Average yearly temperature\n",
    "data = df.groupby('Year').agg({'AverageTemperature': 'mean'}).reset_index()\n",
    "data.rename(columns={'AverageTemperature': 'TempAnomaly'}, inplace=True)\n",
    "\n",
    "# Create lag features\n",
    "for lag in range(1, 4):\n",
    "    data[f'Temp_Lag_{lag}'] = data['TempAnomaly'].shift(lag)\n",
    "\n",
    "data.dropna(inplace=True)\n",
    "data.head()\n"
   ]
  },
  {
   "cell_type": "markdown",
   "id": "1f9b61b0-57e8-490d-aed6-452bc235a3ba",
   "metadata": {},
   "source": [
    "# 📌 Step 4: Data visualization"
   ]
  },
  {
   "cell_type": "code",
   "execution_count": null,
   "id": "2d55f335-a8d1-48e7-8cf1-061e0496e487",
   "metadata": {},
   "outputs": [],
   "source": [
    "\n",
    "plt.figure(figsize=(10, 5))\n",
    "plt.plot(data['Year'], data['TempAnomaly'], marker='o')\n",
    "plt.title(\"Average Temperature Anomaly Over Years (India)\")\n",
    "plt.xlabel(\"Year\")\n",
    "plt.ylabel(\"Temperature Anomaly (°C)\")\n",
    "plt.grid(True)\n",
    "plt.show()\n"
   ]
  },
  {
   "cell_type": "markdown",
   "id": "e8ea19f4-0a90-434b-97fc-69f90bfe613b",
   "metadata": {},
   "source": [
    "# 📌 Step 5: Prepare training and testing sets"
   ]
  },
  {
   "cell_type": "code",
   "execution_count": null,
   "id": "7e9b6132-0d05-4a1a-885d-8dc9243d156a",
   "metadata": {},
   "outputs": [],
   "source": [
    "\n",
    "X = data.drop(['TempAnomaly', 'Year'], axis=1)\n",
    "y = data['TempAnomaly']\n",
    "\n",
    "X_train, X_test, y_train, y_test = train_test_split(X, y, test_size=0.2, random_state=42)\n",
    "\n",
    "scaler = StandardScaler()\n",
    "X_train_scaled = scaler.fit_transform(X_train)\n",
    "X_test_scaled = scaler.transform(X_test)\n"
   ]
  },
  {
   "cell_type": "markdown",
   "id": "3361f3ec-f9c6-4797-9896-a90f414615cf",
   "metadata": {},
   "source": [
    "# 📌 Step 6: Train models"
   ]
  },
  {
   "cell_type": "code",
   "execution_count": null,
   "id": "ae993258-8d18-4765-bca5-8c7dd85665b3",
   "metadata": {},
   "outputs": [],
   "source": [
    "\n",
    "models = {\n",
    "    'Linear Regression': LinearRegression(),\n",
    "    'Random Forest': RandomForestRegressor(),\n",
    "    'Gradient Boosting': GradientBoostingRegressor()\n",
    "}\n",
    "\n",
    "results = {}\n",
    "\n",
    "for name, model in models.items():\n",
    "    model.fit(X_train_scaled, y_train)\n",
    "    preds = model.predict(X_test_scaled)\n",
    "    results[name] = {\n",
    "        'predictions': preds,\n",
    "        'mae': mean_absolute_error(y_test, preds),\n",
    "        'mse': mean_squared_error(y_test, preds),\n",
    "        'r2': r2_score(y_test, preds)\n",
    "    }\n"
   ]
  },
  {
   "cell_type": "markdown",
   "id": "e0a11743-469a-4235-9fb0-2423b9ebc153",
   "metadata": {},
   "source": [
    "# 📌 Step 7: Evaluation"
   ]
  },
  {
   "cell_type": "code",
   "execution_count": null,
   "id": "223e7be4-034d-4330-b8bc-15f8e1da47ba",
   "metadata": {},
   "outputs": [],
   "source": [
    "\n",
    "for name, result in results.items():\n",
    "    print(f\"Model: {name}\")\n",
    "    print(f\"MAE: {result['mae']:.4f}\")\n",
    "    print(f\"MSE: {result['mse']:.4f}\")\n",
    "    print(f\"R2 Score: {result['r2']:.4f}\\n\")\n",
    "\n",
    "    # Actual vs Predicted\n",
    "    plt.figure(figsize=(6, 4))\n",
    "    plt.scatter(y_test, result['predictions'], alpha=0.7)\n",
    "    plt.xlabel(\"Actual\")\n",
    "    plt.ylabel(\"Predicted\")\n",
    "    plt.title(f\"{name} - Actual vs Predicted\")\n",
    "    plt.grid(True)\n",
    "    plt.show()\n"
   ]
  },
  {
   "cell_type": "markdown",
   "id": "2f84ae14-646d-42c4-86d2-2383286bb463",
   "metadata": {},
   "source": [
    "# 📌 Step 8: Future prediction"
   ]
  },
  {
   "cell_type": "code",
   "execution_count": null,
   "id": "0ebd701e-bb8e-4ae5-95b4-44c65f4c73eb",
   "metadata": {},
   "outputs": [],
   "source": [
    "\n",
    "last_values = X.iloc[-1:].values\n",
    "future_prediction = models['Gradient Boosting'].predict(scaler.transform(last_values))\n",
    "print(f\"🌡️ Projected Temperature Anomaly for Next Year: {future_prediction[0]:.4f}°C\")\n",
    "\n",
    "# Scenario: 0.5°C higher input\n",
    "scenario = last_values.copy()\n",
    "scenario += 0.5\n",
    "scenario_prediction = models['Gradient Boosting'].predict(scaler.transform(scenario))\n",
    "print(f\"🌀 Scenario Anomaly if CO₂/Temp increases: {scenario_prediction[0]:.4f}°C\")\n"
   ]
  }
 ],
 "metadata": {
  "kernelspec": {
   "display_name": "Python 3 (ipykernel)",
   "language": "python",
   "name": "python3"
  },
  "language_info": {
   "codemirror_mode": {
    "name": "ipython",
    "version": 3
   },
   "file_extension": ".py",
   "mimetype": "text/x-python",
   "name": "python",
   "nbconvert_exporter": "python",
   "pygments_lexer": "ipython3",
   "version": "3.11.7"
  }
 },
 "nbformat": 4,
 "nbformat_minor": 5
}
